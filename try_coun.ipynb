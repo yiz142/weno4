{
 "cells": [
  {
   "cell_type": "code",
   "execution_count": 3,
   "metadata": {},
   "outputs": [
    {
     "name": "stdout",
     "output_type": "stream",
     "text": [
      "Dataset loaded successfully.\n",
      "Schema headers match.\n"
     ]
    }
   ],
   "source": [
    "import pandas as pd\n",
    "\n",
    "# Define the file path of country.csv\n",
    "file_path = 'datasets/country.csv'\n",
    "\n",
    "# Define the schema headers (assuming they are provided separately)\n",
    "schema_headers = [\n",
    "    'TOTPOP_CY', 'POPDENS_CY', 'POPPRM_CY', 'MALES_CY', 'FEMALES_CY', 'TOTHH_CY', 'AVGHHSZ_CY',\n",
    "    'PAGE01_CY', 'PAGE02_CY', 'PAGE03_CY', 'PAGE04_CY', 'PAGE05_CY',\n",
    "    'MAGE01_CY', 'MAGE02_CY', 'MAGE03_CY', 'MAGE04_CY', 'MAGE05_CY',\n",
    "    'FAGE01_CY', 'FAGE02_CY', 'FAGE03_CY', 'FAGE04_CY', 'FAGE05_CY',\n",
    "    'MRST01_CY', 'MRST02_CY', 'MRST03_CY', 'MRST04_CY', 'MRST_BASE',\n",
    "    'EDUC01_CY', 'EDUC02_CY', 'EDUC03_CY', 'EDUC04_CY', 'EDUC05_CY', 'EDUC_BASE',\n",
    "    'UNEMP_CY', 'PP_CY', 'PPPRM_CY', 'PPPC_CY', 'PPIDX_CY',\n",
    "    'Shape_Length', 'Shape_Area', 'ID', 'name', 'AREA', 'grid_code'\n",
    "]\n",
    "\n",
    "# Load CSV into a DataFrame with the specified schema headers\n",
    "try:\n",
    "    df = pd.read_csv(file_path, header=None, names=schema_headers)\n",
    "    print(\"Dataset loaded successfully.\")\n",
    "    \n",
    "    # Verify schema headers\n",
    "    if all(header in df.columns for header in schema_headers):\n",
    "        print(\"Schema headers match.\")\n",
    "    else:\n",
    "        missing_headers = [header for header in schema_headers if header not in df.columns]\n",
    "        print(f\"Missing schema headers: {missing_headers}\")\n",
    "except Exception as e:\n",
    "    print(f\"Error loading dataset: {str(e)}\")\n",
    "\n"
   ]
  },
  {
   "cell_type": "code",
   "execution_count": null,
   "metadata": {},
   "outputs": [],
   "source": []
  },
  {
   "cell_type": "code",
   "execution_count": null,
   "metadata": {},
   "outputs": [],
   "source": []
  }
 ],
 "metadata": {
  "kernelspec": {
   "display_name": "Python 3",
   "language": "python",
   "name": "python3"
  },
  "language_info": {
   "codemirror_mode": {
    "name": "ipython",
    "version": 3
   },
   "file_extension": ".py",
   "mimetype": "text/x-python",
   "name": "python",
   "nbconvert_exporter": "python",
   "pygments_lexer": "ipython3",
   "version": "3.9.6"
  }
 },
 "nbformat": 4,
 "nbformat_minor": 2
}
